{
 "cells": [
  {
   "cell_type": "code",
   "execution_count": 42,
   "metadata": {
    "collapsed": true
   },
   "outputs": [],
   "source": [
    "%reset -f\n",
    "%matplotlib inline\n",
    "import pandas as pd\n",
    "import numpy as np\n",
    "import scipy\n",
    "from scipy.stats import pearsonr\n",
    "from scipy.stats import  spearmanr\n",
    "import seaborn as sns; sns.set(style=\"white\", color_codes=True)\n",
    "import matplotlib.pyplot as plt\n",
    "import csv"
   ]
  },
  {
   "cell_type": "markdown",
   "metadata": {},
   "source": [
    "#### Define data locations"
   ]
  },
  {
   "cell_type": "code",
   "execution_count": 43,
   "metadata": {
    "collapsed": true
   },
   "outputs": [],
   "source": [
    "protein_quant_fn = \"../Data/Lawless_2016.csv\"\n",
    "protein_degradation_fn = \"../Data/Christiano_2014.csv\"\n",
    "rna_halflife_fn = \"../Data/Geisberg_2014.csv\""
   ]
  },
  {
   "cell_type": "markdown",
   "metadata": {},
   "source": [
    "#### Clean protein quantification data "
   ]
  },
  {
   "cell_type": "code",
   "execution_count": 44,
   "metadata": {
    "collapsed": false
   },
   "outputs": [],
   "source": [
    "protein_quant_lst = []\n",
    "with open(protein_quant_fn, 'r') as f:\n",
    "    next(f)\n",
    "    for line in f:\n",
    "        protein, Final_Quant = line.strip().split(\",\")[0], float(line.strip().split(\",\")[1])\n",
    "        if \"_\" in protein:\n",
    "            tmp = [i for i in protein.split(\"_\")]\n",
    "            for i in tmp:\n",
    "                protein_quant_lst.append([i, Final_Quant]) \n",
    "        else:\n",
    "            protein_quant_lst.append([protein, Final_Quant]) \n",
    "\n",
    "protein_quant_df = pd.DataFrame(protein_quant_lst, columns=[\"gene\",\"SRM_protein_quant\"])\n",
    "protein_quant_df.to_csv(path_or_buf=protein_quant_fn + \".cleaned.csv\", sep='\\t', header=True, index=False, quoting=csv.QUOTE_NONE)"
   ]
  },
  {
   "cell_type": "markdown",
   "metadata": {},
   "source": [
    "#### Clean mRNA half-life data "
   ]
  },
  {
   "cell_type": "code",
   "execution_count": 45,
   "metadata": {
    "collapsed": false
   },
   "outputs": [],
   "source": [
    "rna_halflife_lst = []\n",
    "with open(rna_halflife_fn, 'r') as f:\n",
    "    next(f)\n",
    "    for line in f:\n",
    "        row = line.strip().split(\",\")\n",
    "        mRNA, mRNA_halflife = row[0], float(row[1])\n",
    "        if \";\" in mRNA or \"_\" in mRNA:\n",
    "            raise ValueError(\"More than one entry per row\")\n",
    "        else:\n",
    "            rna_halflife_lst.append([mRNA, mRNA_halflife]) \n",
    "\n",
    "rna_halflife_df = pd.DataFrame(rna_halflife_lst, columns=[\"gene\",\"mRNA_halflife\"])\n",
    "rna_halflife_df.to_csv(path_or_buf=rna_halflife_fn + \".cleaned.csv\", sep='\\t', header=True, index=False, quoting=csv.QUOTE_NONE)"
   ]
  },
  {
   "cell_type": "markdown",
   "metadata": {},
   "source": [
    "#### Clean protein degradation data "
   ]
  },
  {
   "cell_type": "code",
   "execution_count": 48,
   "metadata": {
    "collapsed": false
   },
   "outputs": [],
   "source": [
    "protein_degradation_lst = []\n",
    "with open(protein_degradation_fn, 'r') as f:\n",
    "    next(f)\n",
    "    for line in f:\n",
    "        row = line.strip().split(\",\")\n",
    "        protein, protein_degradation = row[0], float(row[1])\n",
    "        if \";\" in protein:\n",
    "            tmp = [i for i in protein.split(\";\")]\n",
    "            for i in tmp:\n",
    "                protein_degradation_lst.append([i, protein_degradation]) \n",
    "        else:\n",
    "            protein_degradation_lst.append([protein, protein_degradation]) \n",
    "\n",
    "protein_degradation_df = pd.DataFrame(protein_degradation_lst, columns=[\"gene\",\"protein_degradation\"])\n",
    "protein_degradation_df.to_csv(path_or_buf=protein_degradation_fn + \".cleaned.csv\", sep='\\t', header=True, index=False, quoting=csv.QUOTE_NONE)"
   ]
  },
  {
   "cell_type": "code",
   "execution_count": null,
   "metadata": {
    "collapsed": true
   },
   "outputs": [],
   "source": []
  }
 ],
 "metadata": {
  "kernelspec": {
   "display_name": "Python 3",
   "language": "python",
   "name": "python3"
  },
  "language_info": {
   "codemirror_mode": {
    "name": "ipython",
    "version": 3
   },
   "file_extension": ".py",
   "mimetype": "text/x-python",
   "name": "python",
   "nbconvert_exporter": "python",
   "pygments_lexer": "ipython3",
   "version": "3.4.5"
  }
 },
 "nbformat": 4,
 "nbformat_minor": 0
}
