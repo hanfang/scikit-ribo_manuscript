{
 "cells": [
  {
   "cell_type": "code",
   "execution_count": 25,
   "metadata": {
    "collapsed": true
   },
   "outputs": [],
   "source": [
    "%reset -f\n",
    "%matplotlib inline\n",
    "import pandas as pd\n",
    "import numpy as np\n",
    "import scipy\n",
    "from scipy.stats import pearsonr\n",
    "from scipy.stats import  spearmanr\n",
    "import seaborn as sns; sns.set(style=\"white\", color_codes=True)\n",
    "import matplotlib.pyplot as plt"
   ]
  },
  {
   "cell_type": "code",
   "execution_count": 26,
   "metadata": {
    "collapsed": true
   },
   "outputs": [],
   "source": [
    "snsRed, snsBlue, snsGreen = sns.color_palette(\"Set1\", n_colors=8, desat=.5)[0:3]"
   ]
  },
  {
   "cell_type": "code",
   "execution_count": 64,
   "metadata": {
    "collapsed": false
   },
   "outputs": [
    {
     "data": {
      "text/html": [
       "<div>\n",
       "<table border=\"1\" class=\"dataframe\">\n",
       "  <thead>\n",
       "    <tr style=\"text-align: right;\">\n",
       "      <th></th>\n",
       "      <th>Protein</th>\n",
       "      <th>Final_Quant</th>\n",
       "    </tr>\n",
       "  </thead>\n",
       "  <tbody>\n",
       "    <tr>\n",
       "      <th>0</th>\n",
       "      <td>YML035C</td>\n",
       "      <td>3203.943997</td>\n",
       "    </tr>\n",
       "    <tr>\n",
       "      <th>1</th>\n",
       "      <td>YJL101C</td>\n",
       "      <td>2406.989346</td>\n",
       "    </tr>\n",
       "    <tr>\n",
       "      <th>2</th>\n",
       "      <td>YDL081C</td>\n",
       "      <td>121677.109400</td>\n",
       "    </tr>\n",
       "    <tr>\n",
       "      <th>3</th>\n",
       "      <td>YER056C-A_YIL052C</td>\n",
       "      <td>205740.519000</td>\n",
       "    </tr>\n",
       "    <tr>\n",
       "      <th>4</th>\n",
       "      <td>YKL010C</td>\n",
       "      <td>2987.849690</td>\n",
       "    </tr>\n",
       "  </tbody>\n",
       "</table>\n",
       "</div>"
      ],
      "text/plain": [
       "             Protein    Final_Quant\n",
       "0            YML035C    3203.943997\n",
       "1            YJL101C    2406.989346\n",
       "2            YDL081C  121677.109400\n",
       "3  YER056C-A_YIL052C  205740.519000\n",
       "4            YKL010C    2987.849690"
      ]
     },
     "execution_count": 64,
     "metadata": {},
     "output_type": "execute_result"
    }
   ],
   "source": [
    "protein_halfliveFn='/seq/schatz/hfang/Projects/RiboSeq/ENSG_Degradation_rates.csv' \n",
    "protein_halflive=pd.read_table(protein_halfliveFn, header=0)\n",
    "RNAhalfliveFn='/seq/schatz/hfang/Projects/RiboSeq/mRNA_halflives.csv' \n",
    "RNAhalflive=pd.read_table(RNAhalfliveFn, header=0, sep=\",\")\n",
    "\n",
    "protein_quantFn='/seq/schatz/hfang/Projects/RiboSeq/Weinberg_2015/quant_protein.csv'\n",
    "protein_quant  = pd.read_table(protein_quantFn, header=0, sep=\"\\t\")\n",
    "protein_quant.head()\n"
   ]
  },
  {
   "cell_type": "code",
   "execution_count": 65,
   "metadata": {
    "collapsed": true
   },
   "outputs": [],
   "source": [
    "path='/seq/schatz/hfang/Projects/RiboSeq/Weinberg_2015'\n",
    "kapath='/seq/schatz/hfang/Projects/RiboSeq/Weinberg_2015/quantification/kallisto'"
   ]
  },
  {
   "cell_type": "code",
   "execution_count": 66,
   "metadata": {
    "collapsed": false
   },
   "outputs": [
    {
     "name": "stdout",
     "output_type": "stream",
     "text": [
      "3139\n",
      "6501\n"
     ]
    },
    {
     "data": {
      "text/html": [
       "<div>\n",
       "<table border=\"1\" class=\"dataframe\">\n",
       "  <thead>\n",
       "    <tr style=\"text-align: right;\">\n",
       "      <th></th>\n",
       "      <th>target_id</th>\n",
       "      <th>length</th>\n",
       "      <th>eff_length</th>\n",
       "      <th>est_counts</th>\n",
       "      <th>tpm</th>\n",
       "      <th>ENSG</th>\n",
       "      <th>Degradation_rates</th>\n",
       "      <th>gene</th>\n",
       "      <th>Half_Life</th>\n",
       "    </tr>\n",
       "  </thead>\n",
       "  <tbody>\n",
       "    <tr>\n",
       "      <th>0</th>\n",
       "      <td>YAL060W</td>\n",
       "      <td>1149</td>\n",
       "      <td>1122</td>\n",
       "      <td>825.000</td>\n",
       "      <td>49.48910</td>\n",
       "      <td>YAL060W</td>\n",
       "      <td>0.0018</td>\n",
       "      <td>YAL060W</td>\n",
       "      <td>44</td>\n",
       "    </tr>\n",
       "    <tr>\n",
       "      <th>1</th>\n",
       "      <td>YAL059W</td>\n",
       "      <td>639</td>\n",
       "      <td>612</td>\n",
       "      <td>202.000</td>\n",
       "      <td>22.21510</td>\n",
       "      <td>YAL059W</td>\n",
       "      <td>0.0018</td>\n",
       "      <td>YAL059W</td>\n",
       "      <td>6</td>\n",
       "    </tr>\n",
       "    <tr>\n",
       "      <th>2</th>\n",
       "      <td>YAL058W</td>\n",
       "      <td>1509</td>\n",
       "      <td>1482</td>\n",
       "      <td>258.033</td>\n",
       "      <td>11.71860</td>\n",
       "      <td>YAL058W</td>\n",
       "      <td>0.0016</td>\n",
       "      <td>YAL058W</td>\n",
       "      <td>31</td>\n",
       "    </tr>\n",
       "    <tr>\n",
       "      <th>3</th>\n",
       "      <td>YAL055W</td>\n",
       "      <td>543</td>\n",
       "      <td>516</td>\n",
       "      <td>55.000</td>\n",
       "      <td>7.17399</td>\n",
       "      <td>YAL055W</td>\n",
       "      <td>0.0012</td>\n",
       "      <td>YAL055W</td>\n",
       "      <td>31</td>\n",
       "    </tr>\n",
       "    <tr>\n",
       "      <th>4</th>\n",
       "      <td>YAL053W</td>\n",
       "      <td>2352</td>\n",
       "      <td>2325</td>\n",
       "      <td>618.000</td>\n",
       "      <td>17.89010</td>\n",
       "      <td>YAL053W</td>\n",
       "      <td>0.0018</td>\n",
       "      <td>YAL053W</td>\n",
       "      <td>37</td>\n",
       "    </tr>\n",
       "  </tbody>\n",
       "</table>\n",
       "</div>"
      ],
      "text/plain": [
       "  target_id  length  eff_length  est_counts       tpm     ENSG  \\\n",
       "0   YAL060W    1149        1122     825.000  49.48910  YAL060W   \n",
       "1   YAL059W     639         612     202.000  22.21510  YAL059W   \n",
       "2   YAL058W    1509        1482     258.033  11.71860  YAL058W   \n",
       "3   YAL055W     543         516      55.000   7.17399  YAL055W   \n",
       "4   YAL053W    2352        2325     618.000  17.89010  YAL053W   \n",
       "\n",
       "   Degradation_rates     gene  Half_Life  \n",
       "0             0.0018  YAL060W         44  \n",
       "1             0.0018  YAL059W          6  \n",
       "2             0.0016  YAL058W         31  \n",
       "3             0.0012  YAL055W         31  \n",
       "4             0.0018  YAL053W         37  "
      ]
     },
     "execution_count": 66,
     "metadata": {},
     "output_type": "execute_result"
    }
   ],
   "source": [
    "ribok = pd.read_table(kapath + \"/SRR1049521/abundance.tsv\", header=0)\n",
    "rnak  = pd.read_table(kapath + \"/SRR1049520/abundance.tsv\", header=0)\n",
    "print(np.sum(rnak[\"tpm\"] < 10))\n",
    "print(np.sum(rnak[\"tpm\"] > 0))\n",
    "\n",
    "ribok = pd.merge(ribok, protein_halflive, left_on=\"target_id\", right_on=\"ENSG\")\n",
    "ribok = ribok[ribok[\"Degradation_rates\"]>0]\n",
    "ribok[\"tpm_hl\"] = ribok[\"tpm\"] / ribok[\"Degradation_rates\"]\n",
    "\n",
    "rnak = pd.merge(rnak, protein_halflive, left_on=\"target_id\", right_on=\"ENSG\")\n",
    "rnak = pd.merge(rnak, RNAhalflive, left_on=\"target_id\", right_on=\"gene\")\n",
    "rnak.head()"
   ]
  },
  {
   "cell_type": "code",
   "execution_count": 75,
   "metadata": {
    "collapsed": false
   },
   "outputs": [
    {
     "data": {
      "text/plain": [
       "(5111, 2)"
      ]
     },
     "execution_count": 75,
     "metadata": {},
     "output_type": "execute_result"
    }
   ],
   "source": [
    "skr=pd.read_table(path + \"/new_te_analysis/SRR1049521/genesTE.csv\", header=0)\n",
    "skrprotein = pd.merge(skr, rnak, left_on=\"gene\", right_on=\"ENSG\")\n",
    "skrprotein = skrprotein[skrprotein[\"Degradation_rates\"] > 0]\n",
    "\n",
    "skrprotein[\"log2_protein\"] = np.log2(skrprotein[\"tpm\"]) - np.log2(1/skrprotein[\"Half_Life\"]) + skrprotein[\"log2_TE\"] - np.log2(skrprotein[\"Degradation_rates\"])\n",
    "# - np.log2(1/skrprotein[\"Half_Life\"])\n",
    "skr.shape"
   ]
  },
  {
   "cell_type": "code",
   "execution_count": 76,
   "metadata": {
    "collapsed": false
   },
   "outputs": [
    {
     "name": "stdout",
     "output_type": "stream",
     "text": [
      "(0.81255660742231184, 1.8792546770118036e-224)\n"
     ]
    },
    {
     "data": {
      "image/png": "[encoded data removed]",
      "text/plain": [
       "<matplotlib.figure.Figure at 0x2b1940ae8208>"
      ]
     },
     "metadata": {},
     "output_type": "display_data"
    }
   ],
   "source": [
    "from scipy.stats import spearmanr, pearsonr\n",
    "skr_stoc = pd.merge(skrprotein, protein_quant, left_on=\"target_id\", right_on=\"Protein\")\n",
    "skr_stoc[\"log_Final_Quant\"] = np.log2(skr_stoc[\"Final_Quant\"])\n",
    "print(pearsonr(skr_stoc[\"log2_protein\"], skr_stoc[\"log_Final_Quant\"] ))\n",
    "\n",
    "g1 = sns.jointplot(x=\"log2_protein\", y=\"log_Final_Quant\", data=skr_stoc, xlim= [5,35], ylim= [0,30])\n"
   ]
  },
  {
   "cell_type": "code",
   "execution_count": 35,
   "metadata": {
    "collapsed": false
   },
   "outputs": [
    {
     "name": "stderr",
     "output_type": "stream",
     "text": [
      "/sonas-hs/lyon/hpc/home/hfang/.local/lib/python3.4/site-packages/statsmodels-0.6.1-py3.4-linux-x86_64.egg/statsmodels/nonparametric/kdetools.py:20: VisibleDeprecationWarning: using a non-integer number instead of an integer will result in an error in the future\n",
      "  y = X[:m/2+1] + np.r_[0,X[m/2+1:],0]*1j\n"
     ]
    },
    {
     "name": "stdout",
     "output_type": "stream",
     "text": [
      "140\n"
     ]
    },
    {
     "data": {
      "image/png": "[encoded data removed]",
      "text/plain": [
       "<matplotlib.figure.Figure at 0x2b1940471cc0>"
      ]
     },
     "metadata": {},
     "output_type": "display_data"
    }
   ],
   "source": [
    "vio = sns.distplot(skr_stoc[\"tpm\"])\n",
    "print(np.sum(skr_stoc[\"tpm\"] < 10))"
   ]
  },
  {
   "cell_type": "code",
   "execution_count": 37,
   "metadata": {
    "collapsed": false
   },
   "outputs": [
    {
     "name": "stdout",
     "output_type": "stream",
     "text": [
      "    target_id  length  eff_length  est_counts       tpm     ENSG  \\\n",
      "220   YDR343C    1713        1686     21.5691  0.151447  YDR343C   \n",
      "\n",
      "     Degradation_rates     tpm_hl  Protein  Final_Quant  log_tpm_hl  \\\n",
      "220             0.0091  16.642527  YDR343C  32402.02545    4.056803   \n",
      "\n",
      "     log_Final_Quant  \n",
      "220        14.983796  \n"
     ]
    },
    {
     "data": {
      "image/png": "[encoded data removed]",
      "text/plain": [
       "<matplotlib.figure.Figure at 0x2b19402da898>"
      ]
     },
     "metadata": {},
     "output_type": "display_data"
    }
   ],
   "source": [
    "haha = pd.merge(ribok, protein_quant, left_on=\"target_id\", right_on=\"Protein\")\n",
    "haha[\"log_tpm_hl\"] = np.log2(haha[\"tpm_hl\"])\n",
    "haha[\"log_Final_Quant\"] = np.log2(haha[\"Final_Quant\"])\n",
    "print(haha[haha[\"log_tpm_hl\"] < 5])\n",
    "g1 = sns.jointplot(x=\"log_tpm_hl\", y=\"log_Final_Quant\", data=haha, xlim= [0,30], ylim= [0,30])"
   ]
  },
  {
   "cell_type": "code",
   "execution_count": 38,
   "metadata": {
    "collapsed": false
   },
   "outputs": [],
   "source": [
    "ribok = pd.read_table(kapath + \"/SRR1049521/abundance.tsv\", header=0)\n",
    "rnak  = pd.read_table(kapath + \"/SRR1049520/abundance.tsv\", header=0)\n",
    "\n",
    "ribok[\"rpkm\"] = ribok[\"est_counts\"] * 1000000000/ (ribok[\"length\"] * np.sum(ribok[\"est_counts\"]))\n",
    "rnak[\"rpkm\"] = rnak[\"est_counts\"] * 1000000000/ (rnak[\"length\"] * np.sum(rnak[\"est_counts\"]))"
   ]
  },
  {
   "cell_type": "code",
   "execution_count": 39,
   "metadata": {
    "collapsed": false
   },
   "outputs": [
    {
     "data": {
      "text/html": [
       "<div>\n",
       "<table border=\"1\" class=\"dataframe\">\n",
       "  <thead>\n",
       "    <tr style=\"text-align: right;\">\n",
       "      <th></th>\n",
       "      <th>target_id</th>\n",
       "      <th>length_x</th>\n",
       "      <th>eff_length_x</th>\n",
       "      <th>est_counts_x</th>\n",
       "      <th>tpm_x</th>\n",
       "      <th>rpkm_x</th>\n",
       "      <th>length_y</th>\n",
       "      <th>eff_length_y</th>\n",
       "      <th>est_counts_y</th>\n",
       "      <th>tpm_y</th>\n",
       "      <th>rpkm_y</th>\n",
       "    </tr>\n",
       "  </thead>\n",
       "  <tbody>\n",
       "    <tr>\n",
       "      <th>4</th>\n",
       "      <td>YAL067C</td>\n",
       "      <td>1782</td>\n",
       "      <td>1755</td>\n",
       "      <td>48.00000</td>\n",
       "      <td>0.323779</td>\n",
       "      <td>0.396153</td>\n",
       "      <td>1782</td>\n",
       "      <td>1755</td>\n",
       "      <td>20.00000</td>\n",
       "      <td>0.76701</td>\n",
       "      <td>1.448285</td>\n",
       "    </tr>\n",
       "    <tr>\n",
       "      <th>6</th>\n",
       "      <td>YAL065C</td>\n",
       "      <td>387</td>\n",
       "      <td>360</td>\n",
       "      <td>62.88050</td>\n",
       "      <td>2.067750</td>\n",
       "      <td>2.389653</td>\n",
       "      <td>387</td>\n",
       "      <td>360</td>\n",
       "      <td>9.79319</td>\n",
       "      <td>1.83092</td>\n",
       "      <td>3.265465</td>\n",
       "    </tr>\n",
       "    <tr>\n",
       "      <th>7</th>\n",
       "      <td>YAL064W-B</td>\n",
       "      <td>381</td>\n",
       "      <td>354</td>\n",
       "      <td>5.66228</td>\n",
       "      <td>0.189353</td>\n",
       "      <td>0.218573</td>\n",
       "      <td>381</td>\n",
       "      <td>354</td>\n",
       "      <td>14.25860</td>\n",
       "      <td>2.71094</td>\n",
       "      <td>4.829294</td>\n",
       "    </tr>\n",
       "    <tr>\n",
       "      <th>10</th>\n",
       "      <td>YAL063C-A</td>\n",
       "      <td>291</td>\n",
       "      <td>264</td>\n",
       "      <td>1.00000</td>\n",
       "      <td>0.044841</td>\n",
       "      <td>0.050540</td>\n",
       "      <td>291</td>\n",
       "      <td>264</td>\n",
       "      <td>4.00000</td>\n",
       "      <td>1.01977</td>\n",
       "      <td>1.773776</td>\n",
       "    </tr>\n",
       "    <tr>\n",
       "      <th>11</th>\n",
       "      <td>YAL063C</td>\n",
       "      <td>3969</td>\n",
       "      <td>3942</td>\n",
       "      <td>44.42670</td>\n",
       "      <td>0.133417</td>\n",
       "      <td>0.164624</td>\n",
       "      <td>3969</td>\n",
       "      <td>3942</td>\n",
       "      <td>143.26800</td>\n",
       "      <td>2.44614</td>\n",
       "      <td>4.658004</td>\n",
       "    </tr>\n",
       "  </tbody>\n",
       "</table>\n",
       "</div>"
      ],
      "text/plain": [
       "    target_id  length_x  eff_length_x  est_counts_x     tpm_x    rpkm_x  \\\n",
       "4     YAL067C      1782          1755      48.00000  0.323779  0.396153   \n",
       "6     YAL065C       387           360      62.88050  2.067750  2.389653   \n",
       "7   YAL064W-B       381           354       5.66228  0.189353  0.218573   \n",
       "10  YAL063C-A       291           264       1.00000  0.044841  0.050540   \n",
       "11    YAL063C      3969          3942      44.42670  0.133417  0.164624   \n",
       "\n",
       "    length_y  eff_length_y  est_counts_y    tpm_y    rpkm_y  \n",
       "4       1782          1755      20.00000  0.76701  1.448285  \n",
       "6        387           360       9.79319  1.83092  3.265465  \n",
       "7        381           354      14.25860  2.71094  4.829294  \n",
       "10       291           264       4.00000  1.01977  1.773776  \n",
       "11      3969          3942     143.26800  2.44614  4.658004  "
      ]
     },
     "execution_count": 39,
     "metadata": {},
     "output_type": "execute_result"
    }
   ],
   "source": [
    "weinburg = pd.merge(ribok, rnak, on=\"target_id\")\n",
    "weinburg = weinburg [(weinburg[\"tpm_x\"] >0) & (weinburg['tpm_y'] >0)]\n",
    "weinburg.head()\n"
   ]
  },
  {
   "cell_type": "code",
   "execution_count": 40,
   "metadata": {
    "collapsed": false
   },
   "outputs": [
    {
     "data": {
      "text/html": [
       "<div>\n",
       "<table border=\"1\" class=\"dataframe\">\n",
       "  <thead>\n",
       "    <tr style=\"text-align: right;\">\n",
       "      <th></th>\n",
       "      <th>target_id</th>\n",
       "      <th>length</th>\n",
       "      <th>eff_length</th>\n",
       "      <th>est_counts</th>\n",
       "      <th>tpm</th>\n",
       "      <th>rpkm</th>\n",
       "    </tr>\n",
       "  </thead>\n",
       "  <tbody>\n",
       "    <tr>\n",
       "      <th>0</th>\n",
       "      <td>YAL069W</td>\n",
       "      <td>315</td>\n",
       "      <td>288</td>\n",
       "      <td>1.00000</td>\n",
       "      <td>0.041105</td>\n",
       "      <td>0.046689</td>\n",
       "    </tr>\n",
       "    <tr>\n",
       "      <th>1</th>\n",
       "      <td>YAL068W-A</td>\n",
       "      <td>255</td>\n",
       "      <td>228</td>\n",
       "      <td>0.00000</td>\n",
       "      <td>0.000000</td>\n",
       "      <td>0.000000</td>\n",
       "    </tr>\n",
       "    <tr>\n",
       "      <th>2</th>\n",
       "      <td>YAL068C</td>\n",
       "      <td>363</td>\n",
       "      <td>336</td>\n",
       "      <td>0.00000</td>\n",
       "      <td>0.000000</td>\n",
       "      <td>0.000000</td>\n",
       "    </tr>\n",
       "    <tr>\n",
       "      <th>3</th>\n",
       "      <td>YAL067W-A</td>\n",
       "      <td>228</td>\n",
       "      <td>201</td>\n",
       "      <td>0.00000</td>\n",
       "      <td>0.000000</td>\n",
       "      <td>0.000000</td>\n",
       "    </tr>\n",
       "    <tr>\n",
       "      <th>4</th>\n",
       "      <td>YAL067C</td>\n",
       "      <td>1782</td>\n",
       "      <td>1755</td>\n",
       "      <td>48.00000</td>\n",
       "      <td>0.323779</td>\n",
       "      <td>0.396153</td>\n",
       "    </tr>\n",
       "    <tr>\n",
       "      <th>5</th>\n",
       "      <td>YAL066W</td>\n",
       "      <td>309</td>\n",
       "      <td>282</td>\n",
       "      <td>3.00000</td>\n",
       "      <td>0.125938</td>\n",
       "      <td>0.142788</td>\n",
       "    </tr>\n",
       "    <tr>\n",
       "      <th>6</th>\n",
       "      <td>YAL065C</td>\n",
       "      <td>387</td>\n",
       "      <td>360</td>\n",
       "      <td>62.88050</td>\n",
       "      <td>2.067750</td>\n",
       "      <td>2.389653</td>\n",
       "    </tr>\n",
       "    <tr>\n",
       "      <th>7</th>\n",
       "      <td>YAL064W-B</td>\n",
       "      <td>381</td>\n",
       "      <td>354</td>\n",
       "      <td>5.66228</td>\n",
       "      <td>0.189353</td>\n",
       "      <td>0.218573</td>\n",
       "    </tr>\n",
       "    <tr>\n",
       "      <th>8</th>\n",
       "      <td>YAL064C-A</td>\n",
       "      <td>381</td>\n",
       "      <td>354</td>\n",
       "      <td>0.00000</td>\n",
       "      <td>0.000000</td>\n",
       "      <td>0.000000</td>\n",
       "    </tr>\n",
       "    <tr>\n",
       "      <th>9</th>\n",
       "      <td>YAL064W</td>\n",
       "      <td>285</td>\n",
       "      <td>258</td>\n",
       "      <td>0.00000</td>\n",
       "      <td>0.000000</td>\n",
       "      <td>0.000000</td>\n",
       "    </tr>\n",
       "  </tbody>\n",
       "</table>\n",
       "</div>"
      ],
      "text/plain": [
       "   target_id  length  eff_length  est_counts       tpm      rpkm\n",
       "0    YAL069W     315         288     1.00000  0.041105  0.046689\n",
       "1  YAL068W-A     255         228     0.00000  0.000000  0.000000\n",
       "2    YAL068C     363         336     0.00000  0.000000  0.000000\n",
       "3  YAL067W-A     228         201     0.00000  0.000000  0.000000\n",
       "4    YAL067C    1782        1755    48.00000  0.323779  0.396153\n",
       "5    YAL066W     309         282     3.00000  0.125938  0.142788\n",
       "6    YAL065C     387         360    62.88050  2.067750  2.389653\n",
       "7  YAL064W-B     381         354     5.66228  0.189353  0.218573\n",
       "8  YAL064C-A     381         354     0.00000  0.000000  0.000000\n",
       "9    YAL064W     285         258     0.00000  0.000000  0.000000"
      ]
     },
     "execution_count": 40,
     "metadata": {},
     "output_type": "execute_result"
    }
   ],
   "source": [
    "ribok.head(10)"
   ]
  },
  {
   "cell_type": "code",
   "execution_count": 41,
   "metadata": {
    "collapsed": false
   },
   "outputs": [
    {
     "name": "stderr",
     "output_type": "stream",
     "text": [
      "/sonas-hs/lyon/hpc/home/hfang/.local/lib/python3.4/site-packages/statsmodels-0.6.1-py3.4-linux-x86_64.egg/statsmodels/nonparametric/kdetools.py:20: VisibleDeprecationWarning: using a non-integer number instead of an integer will result in an error in the future\n",
      "  y = X[:m/2+1] + np.r_[0,X[m/2+1:],0]*1j\n"
     ]
    },
    {
     "data": {
      "text/plain": [
       "<matplotlib.axes._subplots.AxesSubplot at 0x2b193d5d2278>"
      ]
     },
     "execution_count": 41,
     "metadata": {},
     "output_type": "execute_result"
    },
    {
     "data": {
      "image/png": "[encoded data removed]",
      "text/plain": [
       "<matplotlib.figure.Figure at 0x2b19404faa58>"
      ]
     },
     "metadata": {},
     "output_type": "display_data"
    }
   ],
   "source": [
    "weinburg['log2_TE'] = np.log2(weinburg[\"rpkm_x\"] / weinburg[\"rpkm_y\"])\n",
    "weinburg[\"log2_TE\"] = ( weinburg[\"log2_TE\"] - np.median(weinburg[\"log2_TE\"]) ) / np.log(2)\n",
    "sns.distplot(weinburg['log2_TE'])"
   ]
  },
  {
   "cell_type": "code",
   "execution_count": 45,
   "metadata": {
    "collapsed": false
   },
   "outputs": [
    {
     "data": {
      "text/html": [
       "<div>\n",
       "<table border=\"1\" class=\"dataframe\">\n",
       "  <thead>\n",
       "    <tr style=\"text-align: right;\">\n",
       "      <th></th>\n",
       "      <th>gene</th>\n",
       "      <th>log2_TE</th>\n",
       "    </tr>\n",
       "  </thead>\n",
       "  <tbody>\n",
       "    <tr>\n",
       "      <th>0</th>\n",
       "      <td>YAL001C</td>\n",
       "      <td>-0.7358</td>\n",
       "    </tr>\n",
       "    <tr>\n",
       "      <th>1</th>\n",
       "      <td>YAL002W</td>\n",
       "      <td>-0.9808</td>\n",
       "    </tr>\n",
       "    <tr>\n",
       "      <th>2</th>\n",
       "      <td>YAL003W</td>\n",
       "      <td>2.0730</td>\n",
       "    </tr>\n",
       "    <tr>\n",
       "      <th>3</th>\n",
       "      <td>YAL005C</td>\n",
       "      <td>2.9726</td>\n",
       "    </tr>\n",
       "    <tr>\n",
       "      <th>4</th>\n",
       "      <td>YAL007C</td>\n",
       "      <td>0.5810</td>\n",
       "    </tr>\n",
       "  </tbody>\n",
       "</table>\n",
       "</div>"
      ],
      "text/plain": [
       "      gene  log2_TE\n",
       "0  YAL001C  -0.7358\n",
       "1  YAL002W  -0.9808\n",
       "2  YAL003W   2.0730\n",
       "3  YAL005C   2.9726\n",
       "4  YAL007C   0.5810"
      ]
     },
     "execution_count": 45,
     "metadata": {},
     "output_type": "execute_result"
    }
   ],
   "source": [
    "#weinburg = pd.read_table(path + \"/Weinberg_analysis/GSE53313_Cerevisiae_RNA_RPF.txt.skip\", header=0)\n",
    "#weinburg[\"log2_TE\"] = ( weinburg[\"log2_TE\"] - np.median(weinburg[\"log2_TE\"]) ) / np.log(2)\n",
    "skr=pd.read_table(path + \"/new_te_analysis/SRR1049521/genesTE.csv\", header=0)\n",
    "skr.head()"
   ]
  },
  {
   "cell_type": "code",
   "execution_count": 46,
   "metadata": {
    "collapsed": false
   },
   "outputs": [
    {
     "data": {
      "text/html": [
       "<div>\n",
       "<table border=\"1\" class=\"dataframe\">\n",
       "  <thead>\n",
       "    <tr style=\"text-align: right;\">\n",
       "      <th></th>\n",
       "      <th>gene</th>\n",
       "      <th>log2_TE</th>\n",
       "      <th>target_id</th>\n",
       "      <th>length</th>\n",
       "      <th>eff_length</th>\n",
       "      <th>est_counts</th>\n",
       "      <th>tpm</th>\n",
       "      <th>rpkm</th>\n",
       "      <th>log2_protein</th>\n",
       "    </tr>\n",
       "  </thead>\n",
       "  <tbody>\n",
       "    <tr>\n",
       "      <th>0</th>\n",
       "      <td>YAL001C</td>\n",
       "      <td>-0.7358</td>\n",
       "      <td>YAL001C</td>\n",
       "      <td>3483</td>\n",
       "      <td>3456</td>\n",
       "      <td>518.0</td>\n",
       "      <td>10.08800</td>\n",
       "      <td>19.191462</td>\n",
       "      <td>2.598768</td>\n",
       "    </tr>\n",
       "    <tr>\n",
       "      <th>1</th>\n",
       "      <td>YAL002W</td>\n",
       "      <td>-0.9808</td>\n",
       "      <td>YAL002W</td>\n",
       "      <td>3825</td>\n",
       "      <td>3798</td>\n",
       "      <td>344.0</td>\n",
       "      <td>6.09609</td>\n",
       "      <td>11.605364</td>\n",
       "      <td>1.627084</td>\n",
       "    </tr>\n",
       "    <tr>\n",
       "      <th>2</th>\n",
       "      <td>YAL003W</td>\n",
       "      <td>2.0730</td>\n",
       "      <td>YAL003W</td>\n",
       "      <td>621</td>\n",
       "      <td>594</td>\n",
       "      <td>10689.0</td>\n",
       "      <td>1211.15000</td>\n",
       "      <td>2221.146704</td>\n",
       "      <td>12.315162</td>\n",
       "    </tr>\n",
       "    <tr>\n",
       "      <th>3</th>\n",
       "      <td>YAL005C</td>\n",
       "      <td>2.9726</td>\n",
       "      <td>YAL005C</td>\n",
       "      <td>1929</td>\n",
       "      <td>1902</td>\n",
       "      <td>18622.3</td>\n",
       "      <td>658.97900</td>\n",
       "      <td>1245.755629</td>\n",
       "      <td>12.336689</td>\n",
       "    </tr>\n",
       "    <tr>\n",
       "      <th>4</th>\n",
       "      <td>YAL007C</td>\n",
       "      <td>0.5810</td>\n",
       "      <td>YAL007C</td>\n",
       "      <td>648</td>\n",
       "      <td>621</td>\n",
       "      <td>535.0</td>\n",
       "      <td>57.98430</td>\n",
       "      <td>106.539473</td>\n",
       "      <td>6.438590</td>\n",
       "    </tr>\n",
       "  </tbody>\n",
       "</table>\n",
       "</div>"
      ],
      "text/plain": [
       "      gene  log2_TE target_id  length  eff_length  est_counts         tpm  \\\n",
       "0  YAL001C  -0.7358   YAL001C    3483        3456       518.0    10.08800   \n",
       "1  YAL002W  -0.9808   YAL002W    3825        3798       344.0     6.09609   \n",
       "2  YAL003W   2.0730   YAL003W     621         594     10689.0  1211.15000   \n",
       "3  YAL005C   2.9726   YAL005C    1929        1902     18622.3   658.97900   \n",
       "4  YAL007C   0.5810   YAL007C     648         621       535.0    57.98430   \n",
       "\n",
       "          rpkm  log2_protein  \n",
       "0    19.191462      2.598768  \n",
       "1    11.605364      1.627084  \n",
       "2  2221.146704     12.315162  \n",
       "3  1245.755629     12.336689  \n",
       "4   106.539473      6.438590  "
      ]
     },
     "execution_count": 46,
     "metadata": {},
     "output_type": "execute_result"
    }
   ],
   "source": [
    "skrprotein = pd.merge(skr, rnak, left_on=\"gene\", right_on=\"target_id\")\n",
    "skrprotein[\"log2_protein\"] = np.log2(skrprotein[\"tpm\"]) + skrprotein[\"log2_TE\"]\n",
    "skrprotein.head()"
   ]
  },
  {
   "cell_type": "code",
   "execution_count": 47,
   "metadata": {
    "collapsed": false
   },
   "outputs": [
    {
     "data": {
      "text/plain": [
       "(5111, 14)"
      ]
     },
     "execution_count": 47,
     "metadata": {},
     "output_type": "execute_result"
    }
   ],
   "source": [
    "combine = pd.merge(weinburg, skr, left_on=[\"target_id\"], right_on=[\"gene\"])\n",
    "combine.shape"
   ]
  },
  {
   "cell_type": "code",
   "execution_count": 48,
   "metadata": {
    "collapsed": false
   },
   "outputs": [
    {
     "data": {
      "text/plain": [
       "0.82766429410796405"
      ]
     },
     "execution_count": 48,
     "metadata": {},
     "output_type": "execute_result"
    }
   ],
   "source": [
    "spearmanr(combine.log2_TE_x, combine.log2_TE_y)[0] ** 2\n"
   ]
  },
  {
   "cell_type": "code",
   "execution_count": 49,
   "metadata": {
    "collapsed": false
   },
   "outputs": [
    {
     "data": {
      "text/plain": [
       "(-16.189688968589529, 5.1594007686828389)"
      ]
     },
     "execution_count": 49,
     "metadata": {},
     "output_type": "execute_result"
    }
   ],
   "source": [
    "min(combine.log2_TE_x), max(combine.log2_TE_x)\n"
   ]
  },
  {
   "cell_type": "code",
   "execution_count": 50,
   "metadata": {
    "collapsed": false
   },
   "outputs": [
    {
     "data": {
      "text/plain": [
       "(-6.7206000000000001, 4.9424999999999999)"
      ]
     },
     "execution_count": 50,
     "metadata": {},
     "output_type": "execute_result"
    }
   ],
   "source": [
    "min(combine.log2_TE_y), max(combine.log2_TE_y)"
   ]
  },
  {
   "cell_type": "code",
   "execution_count": 53,
   "metadata": {
    "collapsed": false
   },
   "outputs": [
    {
     "data": {
      "text/plain": [
       "<seaborn.axisgrid.JointGrid at 0x2b193d5832e8>"
      ]
     },
     "execution_count": 53,
     "metadata": {},
     "output_type": "execute_result"
    },
    {
     "data": {
      "image/png": "[encoded data removed]",
      "text/plain": [
       "<matplotlib.figure.Figure at 0x2b193d5830b8>"
      ]
     },
     "metadata": {},
     "output_type": "display_data"
    }
   ],
   "source": [
    "#g1 = plt.figure(figsize=(20,20))\n",
    "g1 = sns.jointplot(x=\"log2_TE_x\", y=\"log2_TE_y\", data=combine, xlim= [-20,10], ylim= [-20,10], c='white', marker='.', s=60, alpha=0, size=6)\n",
    "g1 = (g1.set_axis_labels(\"RPKM TE estimates (median normalized)\", \"scikit-ribo TE estimates\"))\n",
    "x0, x1 = g1.ax_joint.get_xlim()\n",
    "y0, y1 = g1.ax_joint.get_ylim()\n",
    "lims = [max(x0, y0), min(x1, y1)]\n",
    "g1.ax_joint.plot(lims, lims, ':k')\n",
    "\n",
    "combine['deltaTE'] = combine[\"log2_TE_y\"] - combine[\"log2_TE_x\"]\n",
    "\n",
    "underestimated = combine[combine['deltaTE'] > 0.5]\n",
    "g1.x = underestimated.log2_TE_x\n",
    "g1.y = underestimated.log2_TE_y\n",
    "g1.plot_joint(plt.scatter, marker='.', c=snsGreen, s=60, alpha=0.5)\n",
    "\n",
    "overestimated = combine[combine['deltaTE'] < -0.5]\n",
    "g1.x = overestimated.log2_TE_x\n",
    "g1.y = overestimated.log2_TE_y\n",
    "g1.plot_joint(plt.scatter, marker='.', c=snsRed , s=60, alpha=0.5)\n",
    "\n",
    "\n",
    "middle = combine[(combine['deltaTE'] >= -0.5) & (combine['deltaTE'] <= 0.5)]\n",
    "g1.x = middle.log2_TE_x\n",
    "g1.y = middle.log2_TE_y\n",
    "g1.plot_joint(plt.scatter, marker='.', c=snsBlue, s=60, alpha=0.5)\n"
   ]
  },
  {
   "cell_type": "code",
   "execution_count": 54,
   "metadata": {
    "collapsed": false
   },
   "outputs": [
    {
     "data": {
      "text/html": [
       "<div>\n",
       "<table border=\"1\" class=\"dataframe\">\n",
       "  <thead>\n",
       "    <tr style=\"text-align: right;\">\n",
       "      <th></th>\n",
       "      <th>target_id</th>\n",
       "      <th>length_x</th>\n",
       "      <th>eff_length_x</th>\n",
       "      <th>est_counts_x</th>\n",
       "      <th>tpm_x</th>\n",
       "      <th>rpkm_x</th>\n",
       "      <th>length_y</th>\n",
       "      <th>eff_length_y</th>\n",
       "      <th>est_counts_y</th>\n",
       "      <th>tpm_y</th>\n",
       "      <th>rpkm_y</th>\n",
       "      <th>log2_TE_x</th>\n",
       "      <th>gene</th>\n",
       "      <th>log2_TE_y</th>\n",
       "      <th>deltaTE</th>\n",
       "    </tr>\n",
       "  </thead>\n",
       "  <tbody>\n",
       "  </tbody>\n",
       "</table>\n",
       "</div>"
      ],
      "text/plain": [
       "Empty DataFrame\n",
       "Columns: [target_id, length_x, eff_length_x, est_counts_x, tpm_x, rpkm_x, length_y, eff_length_y, est_counts_y, tpm_y, rpkm_y, log2_TE_x, gene, log2_TE_y, deltaTE]\n",
       "Index: []"
      ]
     },
     "execution_count": 54,
     "metadata": {},
     "output_type": "execute_result"
    }
   ],
   "source": [
    "underestimated[underestimated[\"log2_TE_x\"] < -20]"
   ]
  },
  {
   "cell_type": "code",
   "execution_count": 57,
   "metadata": {
    "collapsed": false
   },
   "outputs": [
    {
     "name": "stdout",
     "output_type": "stream",
     "text": [
      "(1078, 15) (3139, 15) (894, 15)\n"
     ]
    }
   ],
   "source": [
    "print(overestimated.shape, middle.shape, underestimated.shape)"
   ]
  },
  {
   "cell_type": "code",
   "execution_count": 58,
   "metadata": {
    "collapsed": false
   },
   "outputs": [],
   "source": [
    "#for i in underestimated.sort(\"deltaTE\", ascending=False).head(100)[\"tpm_y\"]:\n",
    "#np.sum(underestimated.sort(\"deltaTE\", ascending=False).head(100)[\"tpm_x\"]<0)\n",
    "# sns.distplot(underestimated.sort(\"deltaTE\", ascending=False).head(100)[\"tpm_y\"])"
   ]
  },
  {
   "cell_type": "code",
   "execution_count": 59,
   "metadata": {
    "collapsed": false
   },
   "outputs": [
    {
     "data": {
      "text/plain": [
       "[<matplotlib.lines.Line2D at 0x2b1940324080>]"
      ]
     },
     "execution_count": 59,
     "metadata": {},
     "output_type": "execute_result"
    },
    {
     "data": {
      "image/png": "[encoded data removed]",
      "text/plain": [
       "<matplotlib.figure.Figure at 0x2b1940324160>"
      ]
     },
     "metadata": {},
     "output_type": "display_data"
    }
   ],
   "source": [
    "g2 = sns.jointplot(x=\"log2_TE_x\", y=\"log2_TE_y\", xlim= [-10,10], ylim= [-10,10], data=combine, kind=\"hex\", stat_func=None)\n",
    "g2 = (g2.set_axis_labels(\"RPKM TE estimates (median normalized)\", \"scikit-ribo TE estimates\"))\n",
    "x0, x1 = g2.ax_joint.get_xlim()\n",
    "y0, y1 = g2.ax_joint.get_ylim()\n",
    "lims = [max(x0, y0), min(x1, y1)]\n",
    "g2.ax_joint.plot(lims, lims, ':k')"
   ]
  },
  {
   "cell_type": "code",
   "execution_count": 164,
   "metadata": {
    "collapsed": false
   },
   "outputs": [
    {
     "data": {
      "text/plain": [
       "[(0.69607843644917011, 0.30000000260770321, 0.30392157100141015),\n",
       " (0.34198770274718604, 0.48141100064796549, 0.59391389223290425),\n",
       " (0.39618994070618763, 0.58570167033695708, 0.390522889909791),\n",
       " (0.53537487589261112, 0.38903115575804437, 0.55080740057370248),\n",
       " (0.75078431373717736, 0.50374086896578463, 0.25235294121153207),\n",
       " (0.79465590263990804, 0.7915801624310953, 0.39765475054874133),\n",
       " (0.536539809099015, 0.37792388704769753, 0.29271050538210319),\n",
       " (0.84599770237417782, 0.6209765700732961, 0.73920801246867462)]"
      ]
     },
     "execution_count": 164,
     "metadata": {},
     "output_type": "execute_result"
    }
   ],
   "source": []
  },
  {
   "cell_type": "code",
   "execution_count": 60,
   "metadata": {
    "collapsed": false
   },
   "outputs": [
    {
     "name": "stderr",
     "output_type": "stream",
     "text": [
      "/sonas-hs/lyon/hpc/home/hfang/miniconda3/lib/python3.4/site-packages/ipykernel/__main__.py:2: FutureWarning: sort(columns=....) is deprecated, use sort_values(by=.....)\n",
      "  from ipykernel import kernelapp as app\n",
      "/sonas-hs/lyon/hpc/home/hfang/miniconda3/lib/python3.4/site-packages/ipykernel/__main__.py:2: UserWarning: Boolean Series key will be reindexed to match DataFrame index.\n",
      "  from ipykernel import kernelapp as app\n"
     ]
    },
    {
     "data": {
      "text/plain": [
       "(10, 6)"
      ]
     },
     "execution_count": 60,
     "metadata": {},
     "output_type": "execute_result"
    }
   ],
   "source": [
    "combine['deltaTE'] = combine[\"log2_TE_y\"] - combine[\"log2_TE_x\"]\n",
    "topDelta = combine.sort(\"log2_TE_y\",ascending=False)[(combine[\"tpm_x\"] > 10) & (combine[\"tpm_y\"] > 10) & (combine[\"deltaTE\"] > 2)][[\"gene\", \"tpm_x\", \"tpm_y\",\"log2_TE_x\", \"log2_TE_y\", \"deltaTE\"]]\n",
    "topDelta.shape"
   ]
  },
  {
   "cell_type": "code",
   "execution_count": 61,
   "metadata": {
    "collapsed": false
   },
   "outputs": [
    {
     "name": "stdout",
     "output_type": "stream",
     "text": [
      "1078 894\n",
      "103\n"
     ]
    }
   ],
   "source": [
    "print(np.sum(combine['deltaTE'] < -0.5 ), np.sum(combine['deltaTE'] > 0.5 ))\n",
    "print(np.sum(combine['deltaTE'] >=2 ))"
   ]
  },
  {
   "cell_type": "code",
   "execution_count": 62,
   "metadata": {
    "collapsed": false
   },
   "outputs": [],
   "source": [
    "#for i in topDelta[\"gene\"]:\n",
    "#    print(i)"
   ]
  },
  {
   "cell_type": "code",
   "execution_count": 63,
   "metadata": {
    "collapsed": false
   },
   "outputs": [
    {
     "name": "stderr",
     "output_type": "stream",
     "text": [
      "/sonas-hs/lyon/hpc/home/hfang/.local/lib/python3.4/site-packages/statsmodels-0.6.1-py3.4-linux-x86_64.egg/statsmodels/nonparametric/kdetools.py:20: VisibleDeprecationWarning: using a non-integer number instead of an integer will result in an error in the future\n",
      "  y = X[:m/2+1] + np.r_[0,X[m/2+1:],0]*1j\n"
     ]
    },
    {
     "data": {
      "text/plain": [
       "<matplotlib.axes._subplots.AxesSubplot at 0x2b1940056908>"
      ]
     },
     "execution_count": 63,
     "metadata": {},
     "output_type": "execute_result"
    },
    {
     "data": {
      "image/png": "[encoded data removed]",
      "text/plain": [
       "<matplotlib.figure.Figure at 0x2b1940077f98>"
      ]
     },
     "metadata": {},
     "output_type": "display_data"
    }
   ],
   "source": [
    "sns.distplot(combine['deltaTE'])"
   ]
  },
  {
   "cell_type": "code",
   "execution_count": 34,
   "metadata": {
    "collapsed": false
   },
   "outputs": [
    {
     "data": {
      "text/plain": [
       "(219, 6)"
      ]
     },
     "execution_count": 34,
     "metadata": {},
     "output_type": "execute_result"
    }
   ],
   "source": [
    "negDelta = combine[ (combine[\"tpm_x\"] > 1) & (combine[\"tpm_y\"] > 1) & (combine[\"deltaTE\"] < -0.75)][[\"gene\", \"tpm_x\", \"tpm_y\",\"log2_TE_x\", \"log2_TE_y\", \"deltaTE\"]]\n",
    "negDelta.shape"
   ]
  },
  {
   "cell_type": "code",
   "execution_count": 35,
   "metadata": {
    "collapsed": false
   },
   "outputs": [
    {
     "name": "stdout",
     "output_type": "stream",
     "text": [
      "YAL039C\n",
      "YAL025C\n",
      "YAL013W\n",
      "YAR033W\n",
      "YBL078C\n",
      "YBL046W\n",
      "YBL039W-B\n",
      "YBL025W\n",
      "YBR016W\n",
      "YBR047W\n",
      "YBR188C\n",
      "YBR201C-A\n",
      "YBR213W\n",
      "YBR230W-A\n",
      "YBR231C\n",
      "YBR233W-A\n",
      "YBR258C\n",
      "YBR269C\n",
      "YCL026C-B\n",
      "YCR003W\n",
      "YCR086W\n",
      "YDL241W\n",
      "YDL181W\n",
      "YDL160C-A\n",
      "YDL130W-A\n",
      "YDL110C\n",
      "YDL057W\n",
      "YDL043C\n",
      "YDL012C\n",
      "YDR031W\n",
      "YDR059C\n",
      "YDR079W\n",
      "YDR079C-A\n",
      "YDR113C\n",
      "YDR119W-A\n",
      "YDR133C\n",
      "YDR162C\n",
      "YDR163W\n",
      "YDR252W\n",
      "YDR267C\n",
      "YDR322C-A\n",
      "YDR379C-A\n",
      "YDR424C\n",
      "YDR437W\n",
      "YDR462W\n",
      "YDR468C\n",
      "YDR482C\n",
      "YDR493W\n",
      "YDR525W-A\n",
      "YIL136W\n",
      "YIL098C\n",
      "YIL045W\n",
      "YIL014C-A\n",
      "YIR005W\n",
      "YIR009W\n",
      "YIR024C\n",
      "YEL059C-A\n",
      "YEL039C\n",
      "YEL019C\n",
      "YER002W\n",
      "YER029C\n",
      "YER034W\n",
      "YER035W\n",
      "YER058W\n",
      "YER074W-A\n",
      "YER079W\n",
      "YER093C-A\n",
      "YER101C\n",
      "YER104W\n",
      "YER128W\n",
      "YER143W\n",
      "YER170W\n",
      "YFL034C-B\n",
      "YFR003C\n",
      "YFR008W\n",
      "YFR017C\n",
      "YFR027W\n",
      "YFR036W\n",
      "YFR043C\n",
      "YGL250W\n",
      "YGL237C\n",
      "YGL226W\n",
      "YGL212W\n",
      "YGL184C\n",
      "YGL121C\n",
      "YGL081W\n",
      "YGL044C\n",
      "YGL029W\n",
      "YGL018C\n",
      "YGR008C\n",
      "YGR058W\n",
      "YGR076C\n",
      "YGR080W\n",
      "YGR129W\n",
      "YGR152C\n",
      "YGR161C\n",
      "YGR161W-C\n",
      "YGR169C-A\n",
      "YGR203W\n",
      "YGR243W\n",
      "YGR248W\n",
      "YGR251W\n",
      "YGR280C\n",
      "YHL018W\n",
      "YHL013C\n",
      "YHR001W-A\n",
      "YHR038W\n",
      "YHR040W\n",
      "YHR088W\n",
      "YHR097C\n",
      "YHR105W\n",
      "YHR116W\n",
      "YHR138C\n",
      "YHR199C-A\n",
      "YJL218W\n",
      "YJL199C\n",
      "YJL170C\n",
      "YJL144W\n",
      "YJL143W\n",
      "YJL133C-A\n",
      "YJL126W\n",
      "YJL115W\n",
      "YJL088W\n",
      "YJR005C-A\n",
      "YJR055W\n",
      "YJR067C\n",
      "YJR078W\n",
      "YJR083C\n",
      "YJR108W\n",
      "YJR111C\n",
      "YJR150C\n",
      "YKL162C\n",
      "YKL095W\n",
      "YKL088W\n",
      "YKL087C\n",
      "YKL086W\n",
      "YKL049C\n",
      "YKL041W\n",
      "YKL018C-A\n",
      "YKR020W\n",
      "YKR023W\n",
      "YKR055W\n",
      "YKR077W\n",
      "YLL025W\n",
      "YLL018C-A\n",
      "YLR011W\n",
      "YLR025W\n",
      "YLR068W\n",
      "YLR080W\n",
      "YLR102C\n",
      "YLR142W\n",
      "YLR151C\n",
      "YLR218C\n",
      "YLR262C\n",
      "YLR275W\n",
      "YLR295C\n",
      "YLR297W\n",
      "YLR315W\n",
      "YLR326W\n",
      "YLR327C\n",
      "YLR361C-A\n",
      "YLR408C\n",
      "YLR437C\n",
      "YLR438C-A\n",
      "YLR460C\n",
      "YML064C\n",
      "YML062C\n",
      "YML058W-A\n",
      "YML050W\n",
      "YML041C\n",
      "YML007C-A\n",
      "YMR156C\n",
      "YMR170C\n",
      "YMR174C\n",
      "YMR193C-A\n",
      "YMR227C\n",
      "YMR269W\n",
      "YNL274C\n",
      "YNL215W\n",
      "YNL200C\n",
      "YNL198C\n",
      "YNL146W\n",
      "YNL138W-A\n",
      "YNL133C\n",
      "YNL122C\n",
      "YNR007C\n",
      "YNR009W\n",
      "YNR014W\n",
      "YNR020C\n",
      "YNR034W\n",
      "YNR034W-A\n",
      "YOL135C\n",
      "YOL108C\n",
      "YOL093W\n",
      "YOL071W\n",
      "YOL054W\n",
      "YOL032W\n",
      "YOR077W\n",
      "YOR114W\n",
      "YOR159C\n",
      "YOR185C\n",
      "YOR223W\n",
      "YOR252W\n",
      "YOR257W\n",
      "YOR279C\n",
      "YOR287C\n",
      "YPL267W\n",
      "YPL229W\n",
      "YPL213W\n",
      "YPL209C\n",
      "YPL187W\n",
      "YPL170W\n",
      "YPL139C\n",
      "YPL124W\n",
      "YPL123C\n",
      "YPL108W\n",
      "YPL107W\n",
      "YPL067C\n",
      "YPR174C\n"
     ]
    }
   ],
   "source": [
    "for i in negDelta[\"gene\"]:\n",
    "    print(i)"
   ]
  },
  {
   "cell_type": "code",
   "execution_count": 36,
   "metadata": {
    "collapsed": false
   },
   "outputs": [
    {
     "name": "stderr",
     "output_type": "stream",
     "text": [
      "/sonas-hs/lyon/hpc/home/hfang/.local/lib/python3.4/site-packages/statsmodels-0.6.1-py3.4-linux-x86_64.egg/statsmodels/nonparametric/kdetools.py:20: VisibleDeprecationWarning: using a non-integer number instead of an integer will result in an error in the future\n",
      "  y = X[:m/2+1] + np.r_[0,X[m/2+1:],0]*1j\n"
     ]
    },
    {
     "data": {
      "text/plain": [
       "<matplotlib.axes._subplots.AxesSubplot at 0x2ab474c3f860>"
      ]
     },
     "execution_count": 36,
     "metadata": {},
     "output_type": "execute_result"
    },
    {
     "data": {
      "image/png": "[encoded data removed]",
      "text/plain": [
       "<matplotlib.figure.Figure at 0x2ab474c3ac88>"
      ]
     },
     "metadata": {},
     "output_type": "display_data"
    }
   ],
   "source": [
    "sns.distplot(negDelta['tpm_x'])"
   ]
  },
  {
   "cell_type": "code",
   "execution_count": 37,
   "metadata": {
    "collapsed": false
   },
   "outputs": [
    {
     "name": "stderr",
     "output_type": "stream",
     "text": [
      "/sonas-hs/lyon/hpc/home/hfang/miniconda3/lib/python3.4/site-packages/ipykernel/__main__.py:1: FutureWarning: sort(columns=....) is deprecated, use sort_values(by=.....)\n",
      "  if __name__ == '__main__':\n"
     ]
    },
    {
     "data": {
      "text/html": [
       "<div>\n",
       "<table border=\"1\" class=\"dataframe\">\n",
       "  <thead>\n",
       "    <tr style=\"text-align: right;\">\n",
       "      <th></th>\n",
       "      <th>gene</th>\n",
       "      <th>tpm_x</th>\n",
       "      <th>tpm_y</th>\n",
       "      <th>log2_TE_x</th>\n",
       "      <th>log2_TE_y</th>\n",
       "      <th>deltaTE</th>\n",
       "    </tr>\n",
       "  </thead>\n",
       "  <tbody>\n",
       "    <tr>\n",
       "      <th>4048</th>\n",
       "      <td>YMR269W</td>\n",
       "      <td>31.54900</td>\n",
       "      <td>1.87880</td>\n",
       "      <td>4.832893</td>\n",
       "      <td>2.4636</td>\n",
       "      <td>-2.369293</td>\n",
       "    </tr>\n",
       "    <tr>\n",
       "      <th>2228</th>\n",
       "      <td>YGR169C-A</td>\n",
       "      <td>169.11600</td>\n",
       "      <td>10.14920</td>\n",
       "      <td>4.816835</td>\n",
       "      <td>2.9942</td>\n",
       "      <td>-1.822635</td>\n",
       "    </tr>\n",
       "    <tr>\n",
       "      <th>3957</th>\n",
       "      <td>YMR174C</td>\n",
       "      <td>14.14000</td>\n",
       "      <td>1.86959</td>\n",
       "      <td>3.172756</td>\n",
       "      <td>1.3883</td>\n",
       "      <td>-1.784456</td>\n",
       "    </tr>\n",
       "    <tr>\n",
       "      <th>3109</th>\n",
       "      <td>YKL018C-A</td>\n",
       "      <td>42.06230</td>\n",
       "      <td>5.17732</td>\n",
       "      <td>3.321727</td>\n",
       "      <td>1.6740</td>\n",
       "      <td>-1.647727</td>\n",
       "    </tr>\n",
       "    <tr>\n",
       "      <th>918</th>\n",
       "      <td>YDR133C</td>\n",
       "      <td>41.91240</td>\n",
       "      <td>72.31490</td>\n",
       "      <td>-2.173738</td>\n",
       "      <td>-3.8187</td>\n",
       "      <td>-1.644962</td>\n",
       "    </tr>\n",
       "    <tr>\n",
       "      <th>1612</th>\n",
       "      <td>YER058W</td>\n",
       "      <td>27.90140</td>\n",
       "      <td>4.75895</td>\n",
       "      <td>2.642751</td>\n",
       "      <td>1.0912</td>\n",
       "      <td>-1.551551</td>\n",
       "    </tr>\n",
       "    <tr>\n",
       "      <th>2790</th>\n",
       "      <td>YJR005C-A</td>\n",
       "      <td>8.03138</td>\n",
       "      <td>1.84759</td>\n",
       "      <td>2.020055</td>\n",
       "      <td>0.4943</td>\n",
       "      <td>-1.525755</td>\n",
       "    </tr>\n",
       "    <tr>\n",
       "      <th>4266</th>\n",
       "      <td>YNL146W</td>\n",
       "      <td>4.11762</td>\n",
       "      <td>1.21930</td>\n",
       "      <td>1.494569</td>\n",
       "      <td>0.0874</td>\n",
       "      <td>-1.407169</td>\n",
       "    </tr>\n",
       "    <tr>\n",
       "      <th>3086</th>\n",
       "      <td>YKL041W</td>\n",
       "      <td>36.40960</td>\n",
       "      <td>5.71263</td>\n",
       "      <td>2.816557</td>\n",
       "      <td>1.4401</td>\n",
       "      <td>-1.376457</td>\n",
       "    </tr>\n",
       "    <tr>\n",
       "      <th>2660</th>\n",
       "      <td>YJL144W</td>\n",
       "      <td>9.82402</td>\n",
       "      <td>2.57068</td>\n",
       "      <td>1.751947</td>\n",
       "      <td>0.3859</td>\n",
       "      <td>-1.366047</td>\n",
       "    </tr>\n",
       "  </tbody>\n",
       "</table>\n",
       "</div>"
      ],
      "text/plain": [
       "           gene      tpm_x     tpm_y  log2_TE_x  log2_TE_y   deltaTE\n",
       "4048    YMR269W   31.54900   1.87880   4.832893     2.4636 -2.369293\n",
       "2228  YGR169C-A  169.11600  10.14920   4.816835     2.9942 -1.822635\n",
       "3957    YMR174C   14.14000   1.86959   3.172756     1.3883 -1.784456\n",
       "3109  YKL018C-A   42.06230   5.17732   3.321727     1.6740 -1.647727\n",
       "918     YDR133C   41.91240  72.31490  -2.173738    -3.8187 -1.644962\n",
       "1612    YER058W   27.90140   4.75895   2.642751     1.0912 -1.551551\n",
       "2790  YJR005C-A    8.03138   1.84759   2.020055     0.4943 -1.525755\n",
       "4266    YNL146W    4.11762   1.21930   1.494569     0.0874 -1.407169\n",
       "3086    YKL041W   36.40960   5.71263   2.816557     1.4401 -1.376457\n",
       "2660    YJL144W    9.82402   2.57068   1.751947     0.3859 -1.366047"
      ]
     },
     "execution_count": 37,
     "metadata": {},
     "output_type": "execute_result"
    }
   ],
   "source": [
    "negDelta.sort(\"deltaTE\").head(10)"
   ]
  },
  {
   "cell_type": "code",
   "execution_count": 42,
   "metadata": {
    "collapsed": true
   },
   "outputs": [],
   "source": [
    "longTail = combine[(combine[\"log2_TE_x\"] < -2.5) & (combine[\"log2_TE_y\"] < -1)]"
   ]
  },
  {
   "cell_type": "code",
   "execution_count": 76,
   "metadata": {
    "collapsed": false
   },
   "outputs": [
    {
     "name": "stdout",
     "output_type": "stream",
     "text": [
      "3.53876123366 16.0545463306\n"
     ]
    },
    {
     "data": {
      "image/png": "[encoded data removed]",
      "text/plain": [
       "<matplotlib.figure.Figure at 0x2ab4764d7ba8>"
      ]
     },
     "metadata": {},
     "output_type": "display_data"
    }
   ],
   "source": [
    "#sns.distplot(longTail['tpm_x']) # x is ribo\n",
    "ax1 = sns.boxplot(data=longTail[[\"rpkm_x\",\"rpkm_y\"]], orient=\"v\", palette=\"Set2\")\n",
    "ax1.set_yscale(\"log\")\n",
    "print(np.median(longTail[\"rpkm_x\"]), np.median(longTail[\"rpkm_y\"]))"
   ]
  },
  {
   "cell_type": "code",
   "execution_count": 77,
   "metadata": {
    "collapsed": false
   },
   "outputs": [
    {
     "name": "stdout",
     "output_type": "stream",
     "text": [
      "26.1581526248 25.3232054421\n"
     ]
    },
    {
     "data": {
      "image/png": "[encoded data removed]",
      "text/plain": [
       "<matplotlib.figure.Figure at 0x2ab47679fe10>"
      ]
     },
     "metadata": {},
     "output_type": "display_data"
    }
   ],
   "source": [
    "ax2 = sns.boxplot(data=combine[[\"rpkm_x\",\"rpkm_y\"]], orient=\"v\", palette=\"Set2\")\n",
    "ax2.set_yscale(\"log\")\n",
    "print(np.median(combine[\"rpkm_x\"]),np.median(combine[\"rpkm_y\"]))"
   ]
  },
  {
   "cell_type": "code",
   "execution_count": 55,
   "metadata": {
    "collapsed": false
   },
   "outputs": [
    {
     "name": "stderr",
     "output_type": "stream",
     "text": [
      "/sonas-hs/lyon/hpc/home/hfang/.local/lib/python3.4/site-packages/statsmodels-0.6.1-py3.4-linux-x86_64.egg/statsmodels/nonparametric/kdetools.py:20: VisibleDeprecationWarning: using a non-integer number instead of an integer will result in an error in the future\n",
      "  y = X[:m/2+1] + np.r_[0,X[m/2+1:],0]*1j\n"
     ]
    },
    {
     "data": {
      "text/plain": [
       "<matplotlib.axes._subplots.AxesSubplot at 0x2ab47529f240>"
      ]
     },
     "execution_count": 55,
     "metadata": {},
     "output_type": "execute_result"
    },
    {
     "data": {
      "image/png": "[encoded data removed]",
      "text/plain": [
       "<matplotlib.figure.Figure at 0x2ab4752a1b38>"
      ]
     },
     "metadata": {},
     "output_type": "display_data"
    }
   ],
   "source": [
    "sns.distplot(longTail[longTail['tpm_y'] < 2000][\"tpm_y\"])"
   ]
  },
  {
   "cell_type": "code",
   "execution_count": 105,
   "metadata": {
    "collapsed": false
   },
   "outputs": [],
   "source": [
    "#sorted(longTail['tpm_y'])"
   ]
  },
  {
   "cell_type": "code",
   "execution_count": 104,
   "metadata": {
    "collapsed": false
   },
   "outputs": [],
   "source": [
    "#longTail[longTail['tpm_y'] < 2000].sort(\"deltaTE\", ascending=False)"
   ]
  },
  {
   "cell_type": "code",
   "execution_count": 108,
   "metadata": {
    "collapsed": false
   },
   "outputs": [],
   "source": [
    "#for i in overestimated[\"gene\"]:\n",
    "#    print(i)"
   ]
  },
  {
   "cell_type": "code",
   "execution_count": 107,
   "metadata": {
    "collapsed": false
   },
   "outputs": [
    {
     "name": "stdout",
     "output_type": "stream",
     "text": [
      "(645, 15) (1074, 15)\n"
     ]
    }
   ],
   "source": [
    "print(overestimated.shape, underestimated.shape)"
   ]
  },
  {
   "cell_type": "code",
   "execution_count": 193,
   "metadata": {
    "collapsed": false
   },
   "outputs": [
    {
     "name": "stdout",
     "output_type": "stream",
     "text": [
      "22.4618461519\n"
     ]
    },
    {
     "data": {
      "image/png": "[encoded data removed]",
      "text/plain": [
       "<matplotlib.figure.Figure at 0x2ab47420c2b0>"
      ]
     },
     "metadata": {},
     "output_type": "display_data"
    }
   ],
   "source": [
    "ax3 = sns.boxplot(data=overestimated[[\"rpkm_x\",\"rpkm_y\"]], orient=\"v\", palette=\"Set2\")\n",
    "ax3.set_yscale(\"log\")\n",
    "print(np.mean(overestimated[\"rpkm_y\"]))"
   ]
  },
  {
   "cell_type": "code",
   "execution_count": 195,
   "metadata": {
    "collapsed": false
   },
   "outputs": [
    {
     "name": "stdout",
     "output_type": "stream",
     "text": [
      "355.596027733\n"
     ]
    },
    {
     "data": {
      "image/png": "[encoded data removed]",
      "text/plain": [
       "<matplotlib.figure.Figure at 0x2ab4769f8eb8>"
      ]
     },
     "metadata": {},
     "output_type": "display_data"
    }
   ],
   "source": [
    "ax3 = sns.boxplot(data=underestimated[[\"rpkm_x\",\"rpkm_y\"]], orient=\"v\", palette=\"Set2\")\n",
    "ax3.set_yscale(\"log\")\n",
    "print(np.mean(underestimated[\"rpkm_y\"]))"
   ]
  },
  {
   "cell_type": "code",
   "execution_count": 194,
   "metadata": {
    "collapsed": false
   },
   "outputs": [
    {
     "name": "stdout",
     "output_type": "stream",
     "text": [
      "71.8046056141\n"
     ]
    },
    {
     "data": {
      "image/png": "[encoded data removed]",
      "text/plain": [
       "<matplotlib.figure.Figure at 0x2ab476876d30>"
      ]
     },
     "metadata": {},
     "output_type": "display_data"
    }
   ],
   "source": [
    "ax3 = sns.boxplot(data=middle[[\"rpkm_x\",\"rpkm_y\"]], orient=\"v\", palette=\"Set2\")\n",
    "ax3.set_yscale(\"log\")\n",
    "print(np.mean(middle[\"rpkm_y\"]))"
   ]
  },
  {
   "cell_type": "code",
   "execution_count": 217,
   "metadata": {
    "collapsed": false
   },
   "outputs": [
    {
     "data": {
      "text/plain": [
       "(3696, 18)"
      ]
     },
     "execution_count": 217,
     "metadata": {},
     "output_type": "execute_result"
    }
   ],
   "source": [
    "a=pd.merge(halflive, middle, left_on=\"ENSG\",right_on=\"gene\")\n",
    "a[\"class\"] = \"blue\"\n",
    "b=pd.merge(halflive, underestimated, left_on=\"ENSG\",right_on=\"gene\")\n",
    "b[\"class\"] = \"green\"\n",
    "c=pd.merge(halflive, overestimated, left_on=\"ENSG\",right_on=\"gene\")\n",
    "c[\"class\"] = \"red\"\n",
    "abc = pd.concat([a,b,c])\n",
    "abc.shape\n",
    "#b=pd.merge(underestimated, halflive, left_on=\"gene\", right_on=\"ENSG\")\n",
    "#c=pd.merge(overestimated, halflive, left_on=\"gene\", right_on=\"ENSG\")\n",
    "#sns.violinplot(x= [ a[\"Degradation_rates\"], b[\"Degradation_rates\"]])\n"
   ]
  },
  {
   "cell_type": "code",
   "execution_count": 218,
   "metadata": {
    "collapsed": false
   },
   "outputs": [
    {
     "data": {
      "image/png": "[encoded data removed]",
      "text/plain": [
       "<matplotlib.figure.Figure at 0x2ab473cc4908>"
      ]
     },
     "metadata": {},
     "output_type": "display_data"
    }
   ],
   "source": [
    "ax = sns.violinplot(x=\"class\", y=\"Degradation_rates\", data=abc)"
   ]
  },
  {
   "cell_type": "code",
   "execution_count": 219,
   "metadata": {
    "collapsed": false
   },
   "outputs": [
    {
     "name": "stdout",
     "output_type": "stream",
     "text": [
      "0.00202389824436 0.0020652360515 0.00255170842825\n"
     ]
    }
   ],
   "source": [
    "print(np.mean(a.Degradation_rates), np.mean(b.Degradation_rates), np.mean(c.Degradation_rates) )"
   ]
  },
  {
   "cell_type": "code",
   "execution_count": 231,
   "metadata": {
    "collapsed": false
   },
   "outputs": [
    {
     "name": "stdout",
     "output_type": "stream",
     "text": [
      "34.1953101811 31.4171875 38.7920433996\n"
     ]
    }
   ],
   "source": [
    "a=pd.merge(RNAhalflive, middle, left_on=\"gene\",right_on=\"gene\")\n",
    "a[\"class\"] = \"blue\"\n",
    "b=pd.merge(RNAhalflive, underestimated, left_on=\"gene\",right_on=\"gene\")\n",
    "b[\"class\"] = \"green\"\n",
    "c=pd.merge(RNAhalflive, overestimated, left_on=\"gene\",right_on=\"gene\")\n",
    "c[\"class\"] = \"red\"\n",
    "abc = pd.concat([a,b,c])\n",
    "\n",
    "print(np.mean(a.Half_Life), np.mean(b.Half_Life), np.mean(c.Half_Life) )\n"
   ]
  },
  {
   "cell_type": "code",
   "execution_count": 232,
   "metadata": {
    "collapsed": false
   },
   "outputs": [
    {
     "data": {
      "image/png": "[encoded data removed]",
      "text/plain": [
       "<matplotlib.figure.Figure at 0x2ab479259fd0>"
      ]
     },
     "metadata": {},
     "output_type": "display_data"
    }
   ],
   "source": [
    "ax = sns.violinplot(x=\"class\", y=\"Half_Life\", data=abc)"
   ]
  },
  {
   "cell_type": "code",
   "execution_count": null,
   "metadata": {
    "collapsed": true
   },
   "outputs": [],
   "source": []
  }
 ],
 "metadata": {
  "kernelspec": {
   "display_name": "Python 3",
   "language": "python",
   "name": "python3"
  },
  "language_info": {
   "codemirror_mode": {
    "name": "ipython",
    "version": 3
   },
   "file_extension": ".py",
   "mimetype": "text/x-python",
   "name": "python",
   "nbconvert_exporter": "python",
   "pygments_lexer": "ipython3",
   "version": "3.4.5"
  }
 },
 "nbformat": 4,
 "nbformat_minor": 0
}
